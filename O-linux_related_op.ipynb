{
 "cells": [
  {
   "cell_type": "markdown",
   "id": "20721d78-d7b6-432e-bacb-5d0bd37ae16e",
   "metadata": {
    "id": "A547k4aK4Wpe",
    "tags": []
   },
   "source": [
    "# **O-linux_related_op.ipynb**\n",
    "\n",
    "Author: Zhixian Yang\n",
    "\n",
    "Email: [yangzhx28@mail2.sysu.edu.cn](mailto:yangzhx28@mail2.sysu.edu.cn) or [yimu01439@gmail.com](mailto:yimu01439@gmail.com)\n",
    "\n",
    "GitHub: [https://github.com/koar-create](https://github.com/koar-create)\n",
    "\n",
    "Date created: July 26th, 2023\n",
    "\n",
    "Last modified: July 26th, 2023\n",
    "\n",
    "<br><br>\n",
    "\n",
    "---\n",
    "\n",
    "<br><br>\n",
    "\n",
    "## **Description**\n",
    "This document is a Jupyter Notebook designed for an exercise derived from the \"Computational Tools for Climate Science 2023\" course offered by Climatematch Academy. The code presented here comprises a combination of materials provided in the course and code obtained from online sources."
   ]
  },
  {
   "cell_type": "code",
   "execution_count": 2,
   "id": "5547f963-2558-4405-8971-62c8121182e5",
   "metadata": {
    "tags": []
   },
   "outputs": [
    {
     "name": "stdout",
     "output_type": "stream",
     "text": [
      "total 301M\n",
      "drwxr-xr-x 19 jovyan jovyan 4.0K Jul 26 21:53 .\n",
      "drwxr-xr-x  1 root   root   4.0K Jul  6 04:23 ..\n",
      "drwxr-xr-x  3 jovyan jovyan 4.0K Jul 19 13:19 .astropy\n",
      "drwxr-xr-x  9 jovyan jovyan 4.0K Jul 18 17:58 .cache\n",
      "-rw-r--r--  1 jovyan jovyan   95 Jul 26 13:42 .cdsapirc\n",
      "drwxr-xr-x  4 jovyan jovyan 4.0K Jul  8 06:42 .config\n",
      "-rw-r--r--  1 jovyan jovyan   56 Jul 26 17:01 .gitconfig\n",
      "drwxr-xr-x  2 jovyan jovyan 4.0K Jul 26 21:51 .ipynb_checkpoints\n",
      "drwxr-xr-x  3 jovyan jovyan 4.0K Jul  8 06:40 .ipython\n",
      "drwxr-xr-x  4 jovyan jovyan 4.0K Jul  9 00:32 .jupyter\n",
      "-rw-r--r--  1 jovyan jovyan 300M Jul 20 07:44 .jupyter_ystore.db\n",
      "drwxr-xr-x  3 jovyan jovyan 4.0K Jul  8 03:28 .local\n",
      "drwxr-xr-x  3 jovyan jovyan 4.0K Jul 17 15:26 .npm\n",
      "-rw-r--r--  1 jovyan jovyan  278 Jul 26 13:50 .wget-hsts\n",
      "-rw-r--r--  1 jovyan jovyan 230K Jul 26 19:50 C-calculate_onset_date.ipynb\n",
      "-rw-r--r--  1 jovyan jovyan  26K Jul 26 21:48 D-download_dataset.ipynb\n",
      "-rw-r--r--  1 jovyan jovyan 253K Jul 23 21:02 D-download_from_aws_s3.ipynb\n",
      "-rw-r--r--  1 jovyan jovyan  54K Jul 24 19:53 D-download_from_cimp.ipynb\n",
      "drwxr-xr-x  4 jovyan jovyan 4.0K Jul 26 12:37 ERA5\n",
      "drwxr-xr-x  4 jovyan jovyan 4.0K Jul 26 09:57 NCEP-NCAR-v1\n",
      "-rw-r--r--  1 jovyan jovyan 1.6K Jul 26 21:53 O-linux_related_op.ipynb\n",
      "-rw-r--r--  1 jovyan jovyan 5.3K Jul 26 21:52 O-update_repo.ipynb\n",
      "drwxr-xr-x  3 jovyan jovyan 4.0K Jul 26 15:44 TRMM\n",
      "drwxr-xr-x  5 jovyan jovyan 4.0K Jul 26 16:51 Yang-Repository-CS\n",
      "drwxr-xr-x  7 jovyan jovyan 4.0K Jul 20 17:19 course-content\n",
      "drwxr-xr-x  2 jovyan jovyan 4.0K Jul 26 18:29 fig\n",
      "drwxr-xr-x  4 jovyan jovyan 4.0K Jul 13 12:35 shared\n",
      "drwxr-xr-x 68 jovyan jovyan 4.0K Jul 26 14:38 shared-public\n",
      "drwxr-xr-x  2 root   root   4.0K Jul  8 03:28 shared-readwrite\n"
     ]
    }
   ],
   "source": [
    "!ls -alh"
   ]
  },
  {
   "cell_type": "code",
   "execution_count": 1,
   "id": "6d89986e-ce25-458c-a6ac-8bac59868b36",
   "metadata": {
    "tags": []
   },
   "outputs": [
    {
     "name": "stdout",
     "output_type": "stream",
     "text": [
      "Filesystem                                              Size  Used Avail Use% Mounted on\n",
      "overlay                                                  95G   25G   71G  26% /\n",
      "tmpfs                                                    64M     0   64M   0% /dev\n",
      "10.234.45.250:/homes/homes/climatematch/koar-2dcreate   2.5T  2.3T  137G  95% /home/jovyan\n",
      "/dev/sda1                                                95G   25G   71G  26% /etc/hosts\n",
      "shm                                                      64M     0   64M   0% /dev/shm\n",
      "10.234.45.250:/homes/homes/climatematch/_shared-public  2.5T  2.3T  137G  95% /home/jovyan/shared-public\n",
      "10.234.45.250:/homes/homes/climatematch/_shared         2.5T  2.3T  137G  95% /home/jovyan/shared\n",
      "tmpfs                                                   241G   12K  241G   1% /usr/local/etc/ipython/ipython_kernel_config.json\n",
      "tmpfs                                                   126G     0  126G   0% /proc/acpi\n",
      "tmpfs                                                   126G     0  126G   0% /proc/scsi\n",
      "tmpfs                                                   126G     0  126G   0% /sys/firmware\n"
     ]
    }
   ],
   "source": [
    "!df -h"
   ]
  }
 ],
 "metadata": {
  "kernelspec": {
   "display_name": "Python 3 (ipykernel)",
   "language": "python",
   "name": "python3"
  },
  "language_info": {
   "codemirror_mode": {
    "name": "ipython",
    "version": 3
   },
   "file_extension": ".py",
   "mimetype": "text/x-python",
   "name": "python",
   "nbconvert_exporter": "python",
   "pygments_lexer": "ipython3",
   "version": "3.10.12"
  }
 },
 "nbformat": 4,
 "nbformat_minor": 5
}
