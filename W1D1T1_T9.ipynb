{
  "nbformat": 4,
  "nbformat_minor": 0,
  "metadata": {
    "colab": {
      "provenance": [],
      "authorship_tag": "ABX9TyOXVgoSWkswv+5ev7J1eTB8",
      "include_colab_link": true
    },
    "kernelspec": {
      "name": "python3",
      "display_name": "Python 3"
    },
    "language_info": {
      "name": "python"
    }
  },
  "cells": [
    {
      "cell_type": "markdown",
      "metadata": {
        "id": "view-in-github",
        "colab_type": "text"
      },
      "source": [
        "<a href=\"https://colab.research.google.com/github/Koar-create/Yang-Repository-CS/blob/main/W1D1T1_T9.ipynb\" target=\"_parent\"><img src=\"https://colab.research.google.com/assets/colab-badge.svg\" alt=\"Open In Colab\"/></a>"
      ]
    },
    {
      "cell_type": "markdown",
      "source": [
        "# **W1D1T1-T9.ipynb**\n",
        "\n",
        "Author: Zhixian Yang\n",
        "\n",
        "Email: [yangzhx28@mail2.sysu.edu.cn](mailto:yangzhx28@mail2.sysu.edu.cn) or [yimu01439@gmail.com](yimu01439@gmail.com)\n",
        "\n",
        "GitHub: [https://github.com/koar-create](https://github.com/koar-create)\n",
        "\n",
        "Date created: July 17th, 2023\n",
        "\n",
        "Last modified: July 17th, 2023\n",
        "\n",
        "<br><br>\n",
        "\n",
        "---\n",
        "\n",
        "<br><br>\n",
        "\n",
        "## **Description**\n",
        "This document is a Jupyter Notebook designed for an exercise derived from the \"Computational Tools for Climate Science 2023\" course offered by Climatematch Academy. The code presented here comprises a combination of materials provided in the course and code obtained from online sources."
      ],
      "metadata": {
        "id": "A547k4aK4Wpe"
      }
    },
    {
      "cell_type": "markdown",
      "source": [
        "**_<font color='E00000' size=6>install dependencies, import related packages</font>_**\n",
        "\n",
        "---\n",
        "\n",
        "**_<font face='Times New Roman' size=4 >no comments</font>_**"
      ],
      "metadata": {
        "id": "UlL7Eo2dPUjB"
      }
    },
    {
      "cell_type": "code",
      "source": [
        "# write your code here #"
      ],
      "metadata": {
        "id": "NBLvBh4NjLcS"
      },
      "execution_count": null,
      "outputs": []
    },
    {
      "cell_type": "markdown",
      "source": [
        "**_<font color='E00000' size=7>T1 Task 1</font>_**\n",
        "\n",
        "---\n",
        "\n",
        "* **_<font face='Times New Roman' size=4>Create a DataArray object.</font>_**\n",
        " * **further requirements:**\n",
        "    1. create it with named coordinates\n",
        "    2. assign attributes with the DataArray object"
      ],
      "metadata": {
        "id": "MvuSUyjyT7c0"
      }
    },
    {
      "cell_type": "code",
      "source": [
        "# write code here #"
      ],
      "metadata": {
        "id": "L2bwyNpHjo4N"
      },
      "execution_count": null,
      "outputs": []
    },
    {
      "cell_type": "markdown",
      "source": [
        "**_<font color='E00000' size=7>T1 Task 2</font>_**\n",
        "\n",
        "---\n",
        "\n",
        "* **_<font face='Times New Roman' size=4>Create a Dataset object.</font>_**\n",
        " * **further requirements:** none."
      ],
      "metadata": {
        "id": "NkPTnxRSkN4H"
      }
    },
    {
      "cell_type": "code",
      "source": [
        "# write code here #"
      ],
      "metadata": {
        "id": "yS65L3YxkNHo"
      },
      "execution_count": null,
      "outputs": []
    },
    {
      "cell_type": "markdown",
      "source": [
        "**_<font color='E00000' size=7>T2 Task 1</font>_**\n",
        "\n",
        "---\n",
        "\n",
        "* **_<font face='Times New Roman' size=4>index using </font>_** <font face='Consolas' color='Magenta' size=4>.sel()</font> **_<font face='Times New Roman' size=4>method. </font>_**\n",
        "\n",
        " * **further requirements:**\n",
        "    1. use .sel() method with slice()\n",
        "    2. use .sel() method with :"
      ],
      "metadata": {
        "id": "pesRH5apk2HQ"
      }
    },
    {
      "cell_type": "code",
      "source": [
        "# write code here #"
      ],
      "metadata": {
        "id": "XMmrU39Qov0a"
      },
      "execution_count": null,
      "outputs": []
    },
    {
      "cell_type": "markdown",
      "source": [
        "**_<font color='E00000' size=7>T2 Task 2</font>_**\n",
        "\n",
        "---\n",
        "\n",
        "* **_<font face='Times New Roman' size=4>index using </font>_** <font face='Consolas' color='Magenta' size=4>.loc[]</font> **_<font face='Times New Roman' size=4>method. </font>_**\n",
        "\n",
        " * **further requirements:** the same with last task"
      ],
      "metadata": {
        "id": "pg1J3VVWoyMS"
      }
    },
    {
      "cell_type": "code",
      "source": [
        "# write code here #"
      ],
      "metadata": {
        "id": "pGpy_xGTqD97"
      },
      "execution_count": null,
      "outputs": []
    },
    {
      "cell_type": "markdown",
      "source": [
        "**_<font color='E00000' size=7>T2 Task 3</font>_**\n",
        "\n",
        "---\n",
        "\n",
        "* **_<font face='Times New Roman' size=4>do interpolation operation using </font>_**\n",
        "<font face='Consolas' color='Magenta' size=4>.interp()</font> **_<font face='Times New Roman' size=4>method. </font>_**\n",
        "\n",
        " * **further requirements:** none."
      ],
      "metadata": {
        "id": "MCErAqaJqFKV"
      }
    },
    {
      "cell_type": "code",
      "source": [
        "# write code here #"
      ],
      "metadata": {
        "id": "kJa-LgADrXaD"
      },
      "execution_count": null,
      "outputs": []
    },
    {
      "cell_type": "markdown",
      "source": [
        "**_<font color='E00000' size=7>T3 Task 1</font>_**\n",
        "\n",
        "---\n",
        "\n",
        "* **_<font face='Times New Roman' size=4>do interpolation operation using </font>_**\n",
        "<font face='Consolas' color='Magenta' size=4>.interp()</font> **_<font face='Times New Roman' size=4>method. </font>_**\n",
        "\n",
        " * **further requirements:** none."
      ],
      "metadata": {
        "id": "XA-tlwjlrvwL"
      }
    },
    {
      "cell_type": "code",
      "source": [
        "# write code here #"
      ],
      "metadata": {
        "id": "7krxg1BlrjHA"
      },
      "execution_count": null,
      "outputs": []
    }
  ]
}