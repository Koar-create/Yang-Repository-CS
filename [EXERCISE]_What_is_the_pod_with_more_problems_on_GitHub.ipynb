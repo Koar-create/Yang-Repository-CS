{
  "nbformat": 4,
  "nbformat_minor": 0,
  "metadata": {
    "colab": {
      "provenance": [],
      "authorship_tag": "ABX9TyM8vEXTiZNdzdFcABW+lVq0",
      "include_colab_link": true
    },
    "kernelspec": {
      "name": "python3",
      "display_name": "Python 3"
    },
    "language_info": {
      "name": "python"
    }
  },
  "cells": [
    {
      "cell_type": "markdown",
      "metadata": {
        "id": "view-in-github",
        "colab_type": "text"
      },
      "source": [
        "<a href=\"https://colab.research.google.com/github/Koar-create/Yang-Repository-CS/blob/main/%5BEXERCISE%5D_What_is_the_pod_with_more_problems_on_GitHub.ipynb\" target=\"_parent\"><img src=\"https://colab.research.google.com/assets/colab-badge.svg\" alt=\"Open In Colab\"/></a>"
      ]
    },
    {
      "cell_type": "markdown",
      "source": [
        "# **[EXERCISE] What is the pod with more problems on GitHub.ipynb**\n",
        "\n",
        "Author: Zhixian Yang\n",
        "\n",
        "Email: yangzhx28@mail2.sysu.edu.cn\n",
        "\n",
        "GitHub: https://github.com/koar-create\n",
        "\n",
        "Date created: July 14th, 2023\n",
        "\n",
        "Last modified: July 14th, 2023\n",
        "\n",
        "<br><br>\n",
        "\n",
        "---\n",
        "\n",
        "<br><br>\n",
        "\n",
        "## **Description**\n",
        "This document is a Jupyter Notebook designed for an exercise derived from the \"Computational Tools for Climate Science 2023\" course offered by Climatematch Academy. The code presented here comprises a combination of materials provided in the course and code obtained from online sources."
      ],
      "metadata": {
        "id": "A547k4aK4Wpe"
      }
    },
    {
      "cell_type": "code",
      "source": [
        "import os, numpy as np, pandas as pd"
      ],
      "metadata": {
        "id": "3QS-9rGyjHUZ"
      },
      "execution_count": 1,
      "outputs": []
    },
    {
      "cell_type": "code",
      "source": [
        "if not os.path.exists('pods_github_problems.csv'):\n",
        "  !wget https://cdn.discordapp.com/attachments/1129284552850952212/1129284894669946880/pods_github_problems.csv"
      ],
      "metadata": {
        "id": "_A7OQo5OfPh6"
      },
      "execution_count": 2,
      "outputs": []
    },
    {
      "cell_type": "code",
      "source": [
        "df = pd.read_csv('pods_github_problems.csv')"
      ],
      "metadata": {
        "id": "NwLgRyiZf2Pl"
      },
      "execution_count": 3,
      "outputs": []
    },
    {
      "cell_type": "code",
      "source": [
        "count = df.pod_id.value_counts()\n",
        "print(f\"the pod with more problems is {count.idxmax()}, which has {count.max()} students who don't have github.\")"
      ],
      "metadata": {
        "colab": {
          "base_uri": "https://localhost:8080/"
        },
        "id": "k3MMz3uzieQS",
        "outputId": "77206867-8ff8-407f-cebf-486263da17cb"
      },
      "execution_count": 4,
      "outputs": [
        {
          "output_type": "stream",
          "name": "stdout",
          "text": [
            "the pod with more problems is 616, which has 6 students who don't have github.\n"
          ]
        }
      ]
    }
  ]
}