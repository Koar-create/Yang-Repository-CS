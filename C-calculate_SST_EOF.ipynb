{
 "cells": [
  {
   "cell_type": "markdown",
   "id": "56274d6a-7a75-4232-8b91-a626ee7f9e5f",
   "metadata": {
    "id": "A547k4aK4Wpe",
    "tags": []
   },
   "source": [
    "# **C-calculate_onset_date.ipynb**\n",
    "\n",
    "Author: Zhixian Yang\n",
    "\n",
    "Email: [yangzhx28@mail2.sysu.edu.cn](mailto:yangzhx28@mail2.sysu.edu.cn) or [yimu01439@gmail.com](mailto:yimu01439@gmail.com)\n",
    "\n",
    "GitHub: [https://github.com/koar-create](https://github.com/koar-create)\n",
    "\n",
    "Date created: July 27th, 2023\n",
    "\n",
    "Last modified: July 27th, 2023\n",
    "\n",
    "<br><br>\n",
    "\n",
    "---\n",
    "\n",
    "<br><br>\n",
    "\n",
    "## **Description**\n",
    "This document is a Jupyter Notebook designed for an exercise derived from the \"Computational Tools for Climate Science 2023\" course offered by Climatematch Academy. The code presented here comprises a combination of materials provided in the course and code obtained from online sources."
   ]
  },
  {
   "cell_type": "markdown",
   "id": "232bb095-5d5e-4a5b-8b25-e95005ac6357",
   "metadata": {},
   "source": [
    "# <font color='red'>1. download and import packages</font>"
   ]
  },
  {
   "cell_type": "code",
   "execution_count": 1,
   "id": "9206d09c-13b9-4e43-986b-154b3ee16b88",
   "metadata": {},
   "outputs": [],
   "source": [
    "!pip install cdsapi --quiet\n",
    "!pip install imageio[ffmpeg] --quiet\n",
    "!pip install imageio[pyav] --quiet\n",
    "\n",
    "import imageio\n",
    "import cdsapi\n",
    "import h5py\n",
    "import urllib.request\n",
    "from itertools import product\n",
    "import s3fs, boto3, botocore, pooch\n",
    "from pythia_datasets import DATASETS\n",
    "import os, sys, glob, platform, tempfile\n",
    "from datetime import datetime, timedelta\n",
    "import numpy as np, pandas as pd, xarray as xr\n",
    "import matplotlib as mpl, matplotlib.pyplot as plt\n",
    "import cartopy, cartopy.crs as ccrs, cartopy.feature as cfeature\n",
    "from cartopy.mpl.ticker import LongitudeFormatter, LatitudeFormatter\n",
    "import cartopy.io.shapereader as shapereader"
   ]
  },
  {
   "cell_type": "markdown",
   "id": "160596c7-c56a-4e58-9d0e-12fd6856fa4b",
   "metadata": {},
   "source": [
    "# <font color='red'>2. read data</font>"
   ]
  },
  {
   "cell_type": "markdown",
   "id": "4650440b-ef72-4fd2-907b-7aefc5a245ff",
   "metadata": {},
   "source": [
    "<br>\n",
    "\n",
    "### **<font face='Arial' size=4>Yang: option 1 is the file `sst.mnmean.nc` under the folder `shared/Data/Projects/ENSO` with time resolution of 1-month.</font>**"
   ]
  },
  {
   "cell_type": "code",
   "execution_count": 2,
   "id": "d3bcec65-1ae3-4d35-8e3c-c29a60669db1",
   "metadata": {
    "tags": []
   },
   "outputs": [],
   "source": [
    "# data source 1\n",
    "ds = xr.open_dataset('shared/Data/Projects/ENSO/sst.mnmean.nc')\n",
    "ds"
   ]
  },
  {
   "cell_type": "markdown",
   "id": "49eb9e4c-a8ec-4e71-8f96-5a4eafc0ebba",
   "metadata": {},
   "source": [
    "# <font color='red'>3. calculate SST anomalies EOF</font>"
   ]
  },
  {
   "cell_type": "code",
   "execution_count": null,
   "id": "cc5bc096-a43f-44e1-bbed-4ae919dc14c1",
   "metadata": {},
   "outputs": [],
   "source": [
    "var = ds.sst.sel(lat=slice(30, -30), lon=slice(60, 240)).squeeze()\n",
    "\n",
    "n, N, P = var.shape\n",
    "var_2D = var.reshape(n, N * P).transpose()  # reshape and transpose it, making it has the shape of (NP, n)\n",
    "\n",
    "# test: does using the reshape() function disrupt the order of indices?\n",
    "print('reshape() function will not disrupt the order of indices: ', var_2D.transpose.reshape(n, N, P) == var)\n",
    "\n",
    "X = var_2D @ var_2D.transpose()\n",
    "\n",
    "eigvals, eigvecs = np.linalg.eig(X)"
   ]
  },
  {
   "cell_type": "code",
   "execution_count": null,
   "id": "960affbd-3794-4619-aa85-996253e64796",
   "metadata": {},
   "outputs": [],
   "source": [
    "sorted_indices = np.argsort(eigvals)[::-1]\n",
    "\n",
    "# order eigenvalues in descending order\n",
    "sorted_eigenvals = eigvals[sorted_indices]\n",
    "\n",
    "# order eigenvectors in descending order, that is EOF. \n",
    "EOF = eigvecs[:, sorted_indices]\n",
    "PC = EOF.transpose() @ var_2D\n",
    "\n",
    "EOF1 = EOF[:, 0].reshape(N, P)\n",
    "PC1 = PC[0, :]"
   ]
  },
  {
   "cell_type": "code",
   "execution_count": null,
   "id": "2453e39a-85d4-4c1a-934a-871a7339b86b",
   "metadata": {},
   "outputs": [],
   "source": [
    "# plot the 1st mode of EOF\n",
    "proj = ccrs.PlateCarree()\n",
    "fig, ax = plt.subplots(dpi=300, subplot_kw={'projection': proj})\n",
    "\n",
    "ax.coastlines()\n",
    "gl = ax.gridlines(crs=ccrs.PlateCarree(), color='k', alpha=0.8, linewidth=1, linestyle='dashed', draw_labels=True, x_inline=False, y_inline=False)\n",
    "gl.xformatter, gl.yformatter = LongitudeFormatter(), LatitudeFormatter()\n",
    "gl.top_labels, gl.right_labels = False, False\n",
    "gl.xlabel_style, gl.xlabel_style = {'family':'Monospace', 'size':14}, {'family':'Monospace', 'size':14}\n",
    "\n",
    "im = ax.contourf(var.lon, var.lat, EOF1, transform=ccrs.PlateCarree(), \n",
    "                 levels=np.linspace(vmin, vmax, 11), extend='both', cmap='coolwarm')\n",
    "cbar = fig.colorbar(im, ticks=np.linspace(vmin, vmax, 11), orientation='horizontal')\n",
    "cbar.set_label('units: K', fontdict={'family':'Arial', 'size':16, 'weight':'bold'})\n",
    "\n",
    "ax.set_title('EOF1', fontdict={'family':'Arial', 'size':18})"
   ]
  },
  {
   "cell_type": "code",
   "execution_count": null,
   "id": "5a5a6faa-c925-4641-8778-fdc6751345f5",
   "metadata": {},
   "outputs": [],
   "source": [
    "# plot the 1st principal component of sst anomalies\n",
    "fig, ax = plt.subplots(figsize=(9, 6))\n",
    "\n",
    "ax.plot(var.time, PC1, linewidth=1, linestyle='-', color='darkblue')\n",
    "\n",
    "ax.grid(True, linestyle='dashed', linewidth=0.8, color='k', alpha=0.8)\n",
    "ax.axhline(0.0, linewidth=2, linestyle='-', color='F00000')\n",
    "\n",
    "ax.set_title('PC1', fontdict={'family':'Arial', 'size':18})\n",
    "ax.set_xlabel('time', fontdict={'family':'Arial', 'size':16})\n",
    "ax.set_ylabel('PC1', fontdict={'family':'Arial', 'size':16})"
   ]
  }
 ],
 "metadata": {
  "kernelspec": {
   "display_name": "Python 3 (ipykernel)",
   "language": "python",
   "name": "python3"
  },
  "language_info": {
   "codemirror_mode": {
    "name": "ipython",
    "version": 3
   },
   "file_extension": ".py",
   "mimetype": "text/x-python",
   "name": "python",
   "nbconvert_exporter": "python",
   "pygments_lexer": "ipython3",
   "version": "3.10.12"
  }
 },
 "nbformat": 4,
 "nbformat_minor": 5
}
