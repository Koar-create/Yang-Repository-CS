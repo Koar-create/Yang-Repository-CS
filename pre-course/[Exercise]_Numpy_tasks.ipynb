{
  "nbformat": 4,
  "nbformat_minor": 0,
  "metadata": {
    "colab": {
      "provenance": [],
      "authorship_tag": "ABX9TyOI6HYeT5lAgyBM2jCBtz8e",
      "include_colab_link": true
    },
    "kernelspec": {
      "name": "python3",
      "display_name": "Python 3"
    },
    "language_info": {
      "name": "python"
    }
  },
  "cells": [
    {
      "cell_type": "markdown",
      "metadata": {
        "id": "view-in-github",
        "colab_type": "text"
      },
      "source": [
        "<a href=\"https://colab.research.google.com/github/Koar-create/Yang-Repository-CS/blob/main/pre-course/%5BExercise%5D_Numpy_tasks.ipynb\" target=\"_parent\"><img src=\"https://colab.research.google.com/assets/colab-badge.svg\" alt=\"Open In Colab\"/></a>"
      ]
    },
    {
      "cell_type": "markdown",
      "source": [
        "# **[Exercise] Numpy tasks.ipynb**\n",
        "\n",
        "Author: Zhixian Yang\n",
        "\n",
        "Email: yangzhx28@mail2.sysu.edu.cn\n",
        "\n",
        "GitHub: https://github.com/koar-create\n",
        "\n",
        "Date created: July 14th, 2023\n",
        "\n",
        "Last modified: July 14th, 2023\n",
        "\n",
        "<br><br>\n",
        "\n",
        "---\n",
        "\n",
        "<br><br>\n",
        "\n",
        "## **Description**\n",
        "This document is a Jupyter Notebook designed for an exercise derived from the \"Computational Tools for Climate Science 2023\" course offered by Climatematch Academy. The code presented here comprises a combination of materials provided in the course and code obtained from online sources."
      ],
      "metadata": {
        "id": "A547k4aK4Wpe"
      }
    },
    {
      "cell_type": "code",
      "execution_count": null,
      "metadata": {
        "id": "hhMKyvuEINSr"
      },
      "outputs": [],
      "source": [
        "import numpy as np"
      ]
    },
    {
      "cell_type": "markdown",
      "source": [
        "# **Task 1:**\n",
        "\n",
        "---\n",
        "**Description:** Please, write a function that finds the sum of the even diagonal elements of a square matrix if there are no such elements, output 0."
      ],
      "metadata": {
        "id": "kYs1jrtpRakU"
      }
    },
    {
      "cell_type": "code",
      "source": [
        "def diagonal_square_matrix_sum(a):\n",
        "  return sum([i for i in a.diagonal() if (i % 2) == 0])\n",
        "\n",
        "a = np.random.randint(1, 10, size=(10,10))\n",
        "print(a)\n",
        "sum = diagonal_square_matrix_sum(a)\n",
        "print(sum)"
      ],
      "metadata": {
        "colab": {
          "base_uri": "https://localhost:8080/"
        },
        "id": "7P7fjqpRITUe",
        "outputId": "e6481b9b-5f09-4fa6-92b6-035b38710499"
      },
      "execution_count": null,
      "outputs": [
        {
          "output_type": "stream",
          "name": "stdout",
          "text": [
            "[[9 6 4 3 2 7 6 9 8 8]\n",
            " [6 7 2 9 7 6 7 7 7 7]\n",
            " [8 4 2 8 1 9 3 5 7 3]\n",
            " [1 6 5 9 6 8 7 8 1 5]\n",
            " [3 8 1 2 9 8 7 2 7 4]\n",
            " [4 7 6 7 8 1 4 5 5 8]\n",
            " [2 9 9 3 9 7 2 9 1 3]\n",
            " [2 4 8 6 3 4 1 1 3 9]\n",
            " [1 8 5 3 6 9 7 9 7 3]\n",
            " [6 7 6 8 3 1 4 5 9 1]]\n",
            "4\n"
          ]
        }
      ]
    },
    {
      "cell_type": "markdown",
      "source": [
        "# **Task 2:**\n",
        "\n",
        "---\n",
        "**Description:** You have two dimensional array X. For every line in array X you must do the following transformation.\n",
        "\n",
        "You have a line x. You need to create a new array where all the elements with an odd indices will be replaced with the number a. All elements with odd indices should be cubed. Then you write elements in reverse relative to their positions.  Then you need to merge transformed array with the given array and return it. The original X should not be transformed!"
      ],
      "metadata": {
        "id": "hT2P5B8GRr2N"
      }
    },
    {
      "cell_type": "code",
      "source": [
        "from copy import copy\n",
        "\n",
        "def transform(X, a=1):\n",
        "  Y = np.copy(X)\n",
        "  Y[:, 1::2] = a\n",
        "  Y[:, ::2]  = Y[:, ::2] ** 3\n",
        "  return np.concatenate([X, Y[:, ::-1]], axis=0)\n",
        "\n",
        "X = np.array([[100,200,300,400,500, 600], [200, 300, 500, 22, 11, 17]])\n",
        "transform(X)"
      ],
      "metadata": {
        "colab": {
          "base_uri": "https://localhost:8080/"
        },
        "id": "3N-85ZoLR63h",
        "outputId": "81b462ee-ffc0-4f7d-f1b0-d2750b9107b6"
      },
      "execution_count": null,
      "outputs": [
        {
          "output_type": "execute_result",
          "data": {
            "text/plain": [
              "array([[      100,       200,       300,       400,       500,       600],\n",
              "       [      200,       300,       500,        22,        11,        17],\n",
              "       [        1, 125000000,         1,  27000000,         1,   1000000],\n",
              "       [        1,      1331,         1, 125000000,         1,   8000000]])"
            ]
          },
          "metadata": {},
          "execution_count": 20
        }
      ]
    }
  ]
}